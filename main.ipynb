{
 "cells": [
  {
   "cell_type": "code",
   "execution_count": 9,
   "metadata": {},
   "outputs": [
    {
     "name": "stdout",
     "output_type": "stream",
     "text": [
      "                                        Movie_Title                Genre\n",
      "0                                           Kantara    Adventure,  Drama\n",
      "1                                   The Dark Knight        Crime,  Drama\n",
      "2     The Lord of the Rings: The Return of the King    Adventure,  Drama\n",
      "3                                         Inception   Adventure,  Sci-Fi\n",
      "4             The Lord of the Rings: The Two Towers    Adventure,  Drama\n",
      "...                                             ...                  ...\n",
      "5557                                 Disaster Movie               Sci-Fi\n",
      "5558                        The Hottie & the Nottie              Romance\n",
      "5559                           From Justin to Kelly    Musical,  Romance\n",
      "5560                   Superbabies: Baby Geniuses 2      Family,  Sci-Fi\n",
      "5561                 Cumali Ceber: Allah Seni Alsin               Comedy\n",
      "\n",
      "[5562 rows x 2 columns]\n"
     ]
    }
   ],
   "source": [
    "import numpy as np\n",
    "import pandas as pd\n",
    "import matplotlib.pyplot as plt\n",
    "import seaborn as sns\n",
    "import ipywidgets as widgets\n",
    "from IPython.display import display\n",
    "sns.set_style('dark')\n",
    "%matplotlib inline\n",
    "movie_titles = pd.read_csv('movies.csv',encoding='latin1')\n",
    "movie_titles.head()\n",
    "df=pd.read_csv('movies.csv',encoding='latin1')\n",
    "selected_columns = df[['Movie_Title', 'Genre']]\n",
    "print(selected_columns)\n",
    "# Function to filter movies based on genre\n",
    "\n",
    "\n"
   ]
  },
  {
   "cell_type": "code",
   "execution_count": 8,
   "metadata": {},
   "outputs": [
    {
     "data": {
      "application/vnd.jupyter.widget-view+json": {
       "model_id": "6a96b5e428ef497c894b313c70012d32",
       "version_major": 2,
       "version_minor": 0
      },
      "text/plain": [
       "VBox(children=(HTML(value=\"<h2 style='color: #666; text-align: center; font-family: Arial, sans-serif; margin-…"
      ]
     },
     "metadata": {},
     "output_type": "display_data"
    }
   ],
   "source": [
    "def get_recommendations(genre=None):\n",
    "    if genre:\n",
    "        recommendations = df[df['Genre'].str.contains(genre, case=False, na=False)]\n",
    "    else:\n",
    "        recommendations = df  # Show all movies if no genre specified\n",
    "    return recommendations[['Movie_Title', 'Genre']]\n",
    "# Emojis representing different emotions and their associated genres\n",
    "emotion_icons = {\n",
    "    '😊 Happy': 'Comedy',\n",
    "    '😢 Sad': 'Drama',\n",
    "    '😱 Scared': 'Horror',\n",
    "    '😂 Funny': 'Comedy',\n",
    "    '😡 Angry': 'Action',\n",
    "    '😍 Romantic': 'Romance'\n",
    "}\n",
    "\n",
    "# Create buttons with emojis for each emotion\n",
    "emoji_buttons = []\n",
    "for emoji, genre in emotion_icons.items():\n",
    "    button = widgets.Button(description=emoji, layout=widgets.Layout(width='auto'))\n",
    "    emoji_buttons.append(button)\n",
    "\n",
    "# Dropdown widget for selecting genre\n",
    "genres = [''] + df['Genre'].unique().tolist()\n",
    "genre_dropdown = widgets.Dropdown(\n",
    "    options=genres,\n",
    "    value='',\n",
    "    description='Select Genre:',\n",
    "    disabled=False,\n",
    "    style={'description_width': 'initial', 'background-color': '#f0f0f0', 'border': '1px solid #ccc', 'padding': '8px', 'font-size': '14px'}\n",
    ")\n",
    "\n",
    "# Output widget to display recommendations\n",
    "output = widgets.Output(layout={'border': '1px solid #ddd', 'padding': '10px'})\n",
    "\n",
    "# Function to handle button clicks and display recommendations\n",
    "def on_button_click(button):\n",
    "    selected_genre = emotion_icons[button.description]\n",
    "    output.clear_output()\n",
    "    recommendations = get_recommendations(selected_genre)\n",
    "    with output:\n",
    "        if recommendations.empty:\n",
    "            print(f\"No movies found in genre: '{selected_genre}'\")\n",
    "        else:\n",
    "            display(recommendations)\n",
    "\n",
    "# Function to handle dropdown selection and display recommendations\n",
    "def on_dropdown_select(change):\n",
    "    selected_genre = change['new']\n",
    "    output.clear_output()\n",
    "    recommendations = get_recommendations(selected_genre)\n",
    "    with output:\n",
    "        if recommendations.empty:\n",
    "            print(f\"No movies found in genre: '{selected_genre}'\")\n",
    "        else:\n",
    "            display(recommendations)\n",
    "\n",
    "# Attach click event handlers to buttons\n",
    "for button in emoji_buttons:\n",
    "    button.on_click(on_button_click)\n",
    "\n",
    "# Attach dropdown event handler\n",
    "genre_dropdown.observe(on_dropdown_select, names='value')\n",
    "\n",
    "# Initialize recommendations with all movies\n",
    "output.clear_output()\n",
    "recommendations_all = get_recommendations()\n",
    "with output:\n",
    "    display(recommendations_all)\n",
    "\n",
    "# HTML for title and styling\n",
    "html_title = \"<h2 style='color: #666; text-align: center; font-family: Arial, sans-serif; margin-bottom: 20px;'>Movie Recommendation System</h2>\"\n",
    "\n",
    "# Styling for overall layout\n",
    "box_layout = widgets.Layout(display='flex',\n",
    "                            flex_flow='column',\n",
    "                            align_items='center',\n",
    "                            width='50%')  # Adjust overall width\n",
    "\n",
    "# Create a box to hold widgets with defined styling\n",
    "widget_box = widgets.VBox(children=[widgets.HTML(html_title), widgets.HBox(emoji_buttons), genre_dropdown, output],\n",
    "                          layout=box_layout,\n",
    "                          style={'border': '1px solid #ccc', 'padding': '20px', 'background-color': '#f9f9f9', 'box-shadow': '0 4px 8px rgba(0,0,0,0.1)'})\n",
    "\n",
    "# Display widgets\n",
    "display(widget_box)\n"
   ]
  }
 ],
 "metadata": {
  "kernelspec": {
   "display_name": "Python 3",
   "language": "python",
   "name": "python3"
  },
  "language_info": {
   "codemirror_mode": {
    "name": "ipython",
    "version": 3
   },
   "file_extension": ".py",
   "mimetype": "text/x-python",
   "name": "python",
   "nbconvert_exporter": "python",
   "pygments_lexer": "ipython3",
   "version": "3.9.7"
  }
 },
 "nbformat": 4,
 "nbformat_minor": 2
}
